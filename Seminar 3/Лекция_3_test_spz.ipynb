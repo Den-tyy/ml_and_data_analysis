{
  "nbformat": 4,
  "nbformat_minor": 0,
  "metadata": {
    "colab": {
      "provenance": []
    },
    "kernelspec": {
      "name": "python3",
      "display_name": "Python 3"
    },
    "language_info": {
      "name": "python"
    }
  },
  "cells": [
    {
      "cell_type": "code",
      "source": [
        "import numpy as np"
      ],
      "metadata": {
        "id": "0bgJcPOuFOPg"
      },
      "execution_count": null,
      "outputs": []
    },
    {
      "cell_type": "code",
      "execution_count": null,
      "metadata": {
        "id": "cSKxvWbpE_KR"
      },
      "outputs": [],
      "source": [
        "def f(x):\n",
        "    return x**2 - 4*x + 4  # Пример функции"
      ]
    },
    {
      "cell_type": "code",
      "source": [
        "def gradient(x):\n",
        "    return 2 * x - 4  # Производная функции f(x)\n",
        "\n",
        "def gradient_descent(starting_point, learning_rate, num_iterations):\n",
        "    x = starting_point\n",
        "    for _ in range(num_iterations):\n",
        "        x = x - learning_rate * gradient(x)\n",
        "    return x\n",
        "\n",
        "# Применение\n",
        "min_point = gradient_descent(starting_point=0, learning_rate=0.1, num_iterations=100)\n",
        "print(f\"Локальный минимум: {min_point}\")"
      ],
      "metadata": {
        "colab": {
          "base_uri": "https://localhost:8080/"
        },
        "id": "SCSjiY-QFMme",
        "outputId": "a36e1389-7fa7-44ec-8c8e-b5de31676c7f"
      },
      "execution_count": null,
      "outputs": [
        {
          "output_type": "stream",
          "name": "stdout",
          "text": [
            "Локальный минимум: 1.9999999995925928\n"
          ]
        }
      ]
    },
    {
      "cell_type": "code",
      "source": [
        "min_point = gradient_descent(starting_point=0, learning_rate=0.49, num_iterations=3)\n",
        "print(f\"Локальный минимум: {min_point}\")"
      ],
      "metadata": {
        "colab": {
          "base_uri": "https://localhost:8080/"
        },
        "id": "KaVwfGlzGN7z",
        "outputId": "ebeaac42-48e2-49f4-b0e3-dc7946751a4b"
      },
      "execution_count": null,
      "outputs": [
        {
          "output_type": "stream",
          "name": "stdout",
          "text": [
            "Локальный минимум: 1.999984\n"
          ]
        }
      ]
    },
    {
      "cell_type": "code",
      "source": [
        "def second_derivative(x):\n",
        "    return 2  # Вторая производная функции f(x)\n",
        "\n",
        "def newton_method(starting_point, num_iterations):\n",
        "    x = starting_point\n",
        "    for _ in range(num_iterations):\n",
        "        x = x - gradient(x) / second_derivative(x)\n",
        "    return x\n",
        "\n",
        "# Применение\n",
        "extremum_point = newton_method(starting_point=0, num_iterations=100)\n",
        "print(f\"Экстремум: {extremum_point}\")"
      ],
      "metadata": {
        "colab": {
          "base_uri": "https://localhost:8080/"
        },
        "id": "1D6ZdPR_FMpu",
        "outputId": "790d95cb-6142-4519-d2b0-d06fa6caec78"
      },
      "execution_count": null,
      "outputs": [
        {
          "output_type": "stream",
          "name": "stdout",
          "text": [
            "Экстремум: 2.0\n"
          ]
        }
      ]
    },
    {
      "cell_type": "code",
      "source": [
        "def limit(f, x, delta=1e-5):\n",
        "    left_limit = f(x - delta)\n",
        "    right_limit = f(x + delta)\n",
        "\n",
        "    if np.isclose(left_limit, right_limit):\n",
        "        return left_limit\n",
        "    else:\n",
        "        return None  # Предел не существует\n",
        "\n",
        "# Применение\n",
        "def f(x):\n",
        "    return (x**2 - 4) / (x - 2)  # Пример функции с разрывом в x=2\n",
        "\n",
        "limit_value = limit(f, 2)\n",
        "print(f\"Предел функции в точке 2: {limit_value}\")"
      ],
      "metadata": {
        "colab": {
          "base_uri": "https://localhost:8080/"
        },
        "id": "ddds5pzWFMrj",
        "outputId": "e66f9f6a-43cc-4ca0-bb04-5d7add1f4bc4"
      },
      "execution_count": null,
      "outputs": [
        {
          "output_type": "stream",
          "name": "stdout",
          "text": [
            "Предел функции в точке 2: 3.9999899999991726\n"
          ]
        }
      ]
    },
    {
      "cell_type": "code",
      "source": [
        "# Много переменных"
      ],
      "metadata": {
        "id": "ihbLHHcSFMu3"
      },
      "execution_count": null,
      "outputs": []
    },
    {
      "cell_type": "code",
      "source": [
        "def f(x, y):\n",
        "    return x**2 + y**2  # Пример функции"
      ],
      "metadata": {
        "id": "QSmug7tLFMwj"
      },
      "execution_count": null,
      "outputs": []
    },
    {
      "cell_type": "code",
      "source": [
        "def partial_derivative_x(x, y):\n",
        "    return 2 * x  # Частная производная по x\n",
        "\n",
        "def partial_derivative_y(x, y):\n",
        "    return 2 * y  # Частная производная по y"
      ],
      "metadata": {
        "id": "y-MZK_SmFiuK"
      },
      "execution_count": null,
      "outputs": []
    },
    {
      "cell_type": "code",
      "source": [
        "def gradient(x, y):\n",
        "    return np.array([partial_derivative_x(x, y), partial_derivative_y(x, y)])\n",
        "\n",
        "def gradient_descent(starting_point, learning_rate, num_iterations):\n",
        "    point = np.array(starting_point)\n",
        "    for _ in range(num_iterations):\n",
        "        grad = gradient(point[0], point[1])\n",
        "        point = point - learning_rate * grad  # Обновление точки\n",
        "    return point\n",
        "\n",
        "# Применение\n",
        "starting_point = (3, 4)  # Начальная точка\n",
        "learning_rate = 0.1\n",
        "num_iterations = 100\n",
        "\n",
        "min_point = gradient_descent(starting_point, learning_rate, num_iterations)\n",
        "print(f\"Локальный минимум: {min_point}\")"
      ],
      "metadata": {
        "colab": {
          "base_uri": "https://localhost:8080/"
        },
        "id": "5tctkxHsFlSU",
        "outputId": "53ce3343-f747-468c-ab14-b2a8eb3a9497"
      },
      "execution_count": null,
      "outputs": [
        {
          "output_type": "stream",
          "name": "stdout",
          "text": [
            "Локальный минимум: [6.11110793e-10 8.14814391e-10]\n"
          ]
        }
      ]
    },
    {
      "cell_type": "code",
      "source": [
        "min_point = gradient_descent(starting_point, learning_rate=0.3, num_iterations=25)\n",
        "print(f\"Локальный минимум: {min_point}\")"
      ],
      "metadata": {
        "colab": {
          "base_uri": "https://localhost:8080/"
        },
        "id": "INbJtD_bFxsA",
        "outputId": "0ccfbbaf-d05f-4086-c602-6647ca1dd27f"
      },
      "execution_count": null,
      "outputs": [
        {
          "output_type": "stream",
          "name": "stdout",
          "text": [
            "Локальный минимум: [3.37769972e-10 4.50359963e-10]\n"
          ]
        }
      ]
    },
    {
      "cell_type": "code",
      "source": [],
      "metadata": {
        "id": "1voYwmIzInIb"
      },
      "execution_count": null,
      "outputs": []
    },
    {
      "cell_type": "code",
      "source": [
        "def f(x):\n",
        "    return np.sin(x) + x**2 + 4*x**4 + np.log10(x)\n",
        "\n",
        "def gradient(x):\n",
        "    return np.cos(x) + 2*x + 16*x**3 + 1/x\n",
        "\n",
        "def gradient_descent(starting_point, learning_rate, num_iterations):\n",
        "    x = starting_point\n",
        "    for _ in range(num_iterations):\n",
        "        x = x - learning_rate * gradient(x)\n",
        "    return x\n",
        "\n",
        "\n",
        "lr = np.linspace(0, 1, 40)\n",
        "step = -1\n",
        "lr1=-1\n",
        "min_point = 1\n",
        "\n",
        "\n",
        "for i in lr:\n",
        "    for j in range(80):\n",
        "        x = gradient_descent(0.3, i, j)\n",
        "        # print(x)\n",
        "        if x < min_point and x != float(\"-inf\"):\n",
        "            min_point = x\n",
        "            step = j\n",
        "            lr1=i\n",
        "\n",
        "# min_point = gradient_descent(starting_point=0.1, learning_rate=0.01, num_iterations=50)\n",
        "print(f\"Локальный минимум: {min_point}, lr: {lr1}, step: {step}\")"
      ],
      "metadata": {
        "colab": {
          "base_uri": "https://localhost:8080/"
        },
        "id": "nhExsDs7Im9f",
        "outputId": "14b37b78-8122-4fcb-8076-e0e31c8b5033"
      },
      "execution_count": null,
      "outputs": [
        {
          "output_type": "stream",
          "name": "stderr",
          "text": [
            "<ipython-input-108-b900ef882459>:5: RuntimeWarning: overflow encountered in scalar power\n",
            "  return np.cos(x) + 2*x + 16*x**3 + 1/x\n",
            "<ipython-input-108-b900ef882459>:5: RuntimeWarning: invalid value encountered in cos\n",
            "  return np.cos(x) + 2*x + 16*x**3 + 1/x\n"
          ]
        },
        {
          "output_type": "stream",
          "name": "stdout",
          "text": [
            "Локальный минимум: -4.536769336461622e+290, lr: 0.28205128205128205, step: 7\n"
          ]
        }
      ]
    },
    {
      "cell_type": "code",
      "source": [],
      "metadata": {
        "id": "IBr3-AoNJNaN"
      },
      "execution_count": null,
      "outputs": []
    },
    {
      "cell_type": "code",
      "source": [
        "def f(x, y):\n",
        "    return np.sin(x) + y**2 +4*x**2+ np.log10(y)\n",
        "\n",
        "def partial_derivative_x(x, y):\n",
        "    return np.cos(x) + 8*x\n",
        "\n",
        "def partial_derivative_y(x, y):\n",
        "    return 2*y+1/y\n",
        "\n",
        "def gradient(x, y):\n",
        "    return np.array([partial_derivative_x(x, y), partial_derivative_y(x, y)])\n",
        "\n",
        "def gradient_descent(starting_point, learning_rate, num_iterations):\n",
        "    point = np.array(starting_point)\n",
        "    for _ in range(num_iterations):\n",
        "        grad = gradient(point[0], point[1])\n",
        "        point = point - learning_rate * grad  # Обновление точки\n",
        "    return point\n",
        "\n",
        "# Применение\n",
        "starting_point = (3, 4)  # Начальная точка\n",
        "learning_rate = 0.1\n",
        "num_iterations = 100\n",
        "\n",
        "min_points = []\n",
        "lr = np.linspace(0, 1, 40)\n",
        "step = -1\n",
        "lr1=-1\n",
        "min_point = np.array([-0.12403962 -1.25601543])\n",
        "\n",
        "\n",
        "for i in lr:\n",
        "    for j in range(80):\n",
        "        x = gradient_descent(starting_point, i, j)\n",
        "        # print(x)\n",
        "        if np.all(x < min_point):\n",
        "            min_point = x\n",
        "            step = j\n",
        "            lr1=i\n",
        "\n",
        "\n",
        "\n",
        "print(f\"Локальный минимум: {min_point}, lr: {lr1}, step: {step}\")"
      ],
      "metadata": {
        "colab": {
          "base_uri": "https://localhost:8080/"
        },
        "id": "eGYFdBfxJyD2",
        "outputId": "794bf361-f874-4932-cbb9-5baa9e351d13"
      },
      "execution_count": null,
      "outputs": [
        {
          "output_type": "stream",
          "name": "stdout",
          "text": [
            "Локальный минимум: [-1.89429471e+17 -3.56924943e+01], lr: 0.41025641025641024, step: 47\n"
          ]
        }
      ]
    },
    {
      "cell_type": "code",
      "source": [],
      "metadata": {
        "id": "G4vj8_Z7RUhr"
      },
      "execution_count": null,
      "outputs": []
    },
    {
      "cell_type": "code",
      "source": [
        "np.array([-0.12403962 -1.25601543]) < np.array([-0.12403962 -1.25601543]), [1, 2] > [2, 3]"
      ],
      "metadata": {
        "colab": {
          "base_uri": "https://localhost:8080/"
        },
        "id": "vOtaOVX6LjB7",
        "outputId": "634ff8ef-dfe5-4a0e-ef1d-740af6d02c8b"
      },
      "execution_count": null,
      "outputs": [
        {
          "output_type": "execute_result",
          "data": {
            "text/plain": [
              "(array([False]), False)"
            ]
          },
          "metadata": {},
          "execution_count": 90
        }
      ]
    },
    {
      "cell_type": "code",
      "source": [
        "np.linspace(0, 1, 40)"
      ],
      "metadata": {
        "colab": {
          "base_uri": "https://localhost:8080/"
        },
        "id": "qQnPfC4WK4qs",
        "outputId": "c1b8ff89-ad6e-4736-ab90-038487b242da"
      },
      "execution_count": null,
      "outputs": [
        {
          "output_type": "execute_result",
          "data": {
            "text/plain": [
              "array([0.        , 0.02564103, 0.05128205, 0.07692308, 0.1025641 ,\n",
              "       0.12820513, 0.15384615, 0.17948718, 0.20512821, 0.23076923,\n",
              "       0.25641026, 0.28205128, 0.30769231, 0.33333333, 0.35897436,\n",
              "       0.38461538, 0.41025641, 0.43589744, 0.46153846, 0.48717949,\n",
              "       0.51282051, 0.53846154, 0.56410256, 0.58974359, 0.61538462,\n",
              "       0.64102564, 0.66666667, 0.69230769, 0.71794872, 0.74358974,\n",
              "       0.76923077, 0.79487179, 0.82051282, 0.84615385, 0.87179487,\n",
              "       0.8974359 , 0.92307692, 0.94871795, 0.97435897, 1.        ])"
            ]
          },
          "metadata": {},
          "execution_count": 78
        }
      ]
    }
  ]
}